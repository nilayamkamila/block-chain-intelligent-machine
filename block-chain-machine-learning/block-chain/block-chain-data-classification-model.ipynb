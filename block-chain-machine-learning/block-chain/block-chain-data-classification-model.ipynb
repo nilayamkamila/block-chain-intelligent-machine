{
 "cells": [
  {
   "cell_type": "code",
   "execution_count": 2,
   "metadata": {},
   "outputs": [
    {
     "name": "stdout",
     "output_type": "stream",
     "text": [
      "  currencyId  openingValue  closingValue  highestValue   lowestValue  \\\n",
      "0   16488849  8.038788e+06  6.837129e+06  7.104514e+06  3.402046e+06   \n",
      "1   c294d6a9  4.846313e+06  8.550841e+06  7.972916e+05  6.705993e+06   \n",
      "2   0e103d60  2.459046e+06  8.161704e+05  6.731340e+06  6.433721e+06   \n",
      "3   bcda0a6b  1.259388e+06  9.960730e+06  7.876745e+05  4.898608e+06   \n",
      "4   afd0388e  6.742674e+06  5.187133e+06  6.272002e+06  2.206014e+06   \n",
      "\n",
      "       adjClose  volumeStocks                          userIdentity  \\\n",
      "0  4.098355e+06        523637  27632934-5b2b-4ad0-83da-0267ed5cbd86   \n",
      "1  2.427546e+06        927977  26c6d6eb-d9f0-421f-99cb-34a671060034   \n",
      "2  4.251601e+06        865215  59072bb8-a83d-4cec-ad9e-64ff1152409e   \n",
      "3  1.959951e+06        980963  6fcb406a-becd-4018-adc3-2ea152843b49   \n",
      "4  1.233915e+06        935381  6bc96fa6-b234-4f9e-8e4d-49ab627ffddc   \n",
      "\n",
      "   userFollowers  userFriends  userVerified  userCreditRating  \\\n",
      "0          62420         2984         False          0.197385   \n",
      "1          71644         7806          True          0.598625   \n",
      "2          47629         3585         False          0.669577   \n",
      "3          46426         1505         False          0.612687   \n",
      "4          44806         8786         False          0.219620   \n",
      "\n",
      "   certifiedAuthorityTrusted  tokenTrusted  \n",
      "0                       True          True  \n",
      "1                      False         False  \n",
      "2                      False         False  \n",
      "3                       True         False  \n",
      "4                      False         False  \n",
      "<class 'pandas.core.frame.DataFrame'>\n",
      "RangeIndex: 199 entries, 0 to 198\n",
      "Data columns (total 14 columns):\n",
      " #   Column                     Non-Null Count  Dtype  \n",
      "---  ------                     --------------  -----  \n",
      " 0   currencyId                 199 non-null    object \n",
      " 1   openingValue               199 non-null    float64\n",
      " 2   closingValue               199 non-null    float64\n",
      " 3   highestValue               199 non-null    float64\n",
      " 4   lowestValue                199 non-null    float64\n",
      " 5   adjClose                   199 non-null    float64\n",
      " 6   volumeStocks               199 non-null    int64  \n",
      " 7   userIdentity               199 non-null    object \n",
      " 8   userFollowers              199 non-null    int64  \n",
      " 9   userFriends                199 non-null    int64  \n",
      " 10  userVerified               199 non-null    bool   \n",
      " 11  userCreditRating           199 non-null    float64\n",
      " 12  certifiedAuthorityTrusted  199 non-null    bool   \n",
      " 13  tokenTrusted               199 non-null    bool   \n",
      "dtypes: bool(3), float64(6), int64(3), object(2)\n",
      "memory usage: 17.8+ KB\n",
      "None\n",
      "Accuracy: 0.925\n",
      "Precision: 0.95\n",
      "Recall: 0.9047619047619048\n",
      "F1 Score: 0.9268292682926829\n",
      "\n",
      "Classification Report:\n",
      "               precision    recall  f1-score   support\n",
      "\n",
      "           0       0.90      0.95      0.92        19\n",
      "           1       0.95      0.90      0.93        21\n",
      "\n",
      "    accuracy                           0.93        40\n",
      "   macro avg       0.93      0.93      0.92        40\n",
      "weighted avg       0.93      0.93      0.93        40\n",
      "\n"
     ]
    },
    {
     "name": "stderr",
     "output_type": "stream",
     "text": [
      "/opt/anaconda3/lib/python3.7/site-packages/pandas/core/frame.py:4323: SettingWithCopyWarning: \n",
      "A value is trying to be set on a copy of a slice from a DataFrame\n",
      "\n",
      "See the caveats in the documentation: https://pandas.pydata.org/pandas-docs/stable/user_guide/indexing.html#returning-a-view-versus-a-copy\n",
      "  downcast=downcast,\n"
     ]
    }
   ],
   "source": [
    "# Step 1: Import Libraries\n",
    "import pandas as pd\n",
    "import numpy as np\n",
    "from sklearn.model_selection import train_test_split\n",
    "from sklearn.tree import DecisionTreeClassifier, plot_tree\n",
    "from sklearn.metrics import accuracy_score, precision_score, recall_score, f1_score, classification_report, confusion_matrix\n",
    "import matplotlib.pyplot as plt\n",
    "import seaborn as sns\n",
    "\n",
    "# Step 2: Load the Dataset\n",
    "# Replace 'BNB-USD.csv' with your dataset file\n",
    "data = pd.read_csv('data/blockchain-kinesis-data-stream-realtime.csv')\n",
    "\n",
    "# Step 3: Data Exploration\n",
    "print(data.head())  # Display the first 5 rows\n",
    "print(data.info())  # Check for missing values and data types\n",
    "\n",
    "# Step 4: Preprocess the Data\n",
    "# Convert the Date column to datetime format if present\n",
    "# data['Date'] = pd.to_datetime(data['Date'])\n",
    "\n",
    "# Create a target column: Price_Change (1 for increase, 0 for decrease)\n",
    "data['tokenTrusted'] = (data['closingValue'] > data['openingValue']).astype(int)\n",
    "\n",
    "# Select features (X) and target (y)\n",
    "X = data[['openingValue','closingValue','highestValue','lowestValue','volumeStocks','userFollowers','userFriends','userCreditRating'\n",
    "]]  # Replace with relevant features from your dataset\n",
    "y = data['tokenTrusted']  # Target variable\n",
    "\n",
    "# Handle missing values (if any)\n",
    "X.fillna(method='ffill', inplace=True)\n",
    "\n",
    "# Split the dataset into training and testing sets\n",
    "X_train, X_test, y_train, y_test = train_test_split(X, y, test_size=0.2, random_state=42)\n",
    "\n",
    "# Step 5: Train the Decision Tree Classifier\n",
    "classifier = DecisionTreeClassifier(criterion='gini', max_depth=5, random_state=42)\n",
    "classifier.fit(X_train, y_train)\n",
    "\n",
    "# Step 6: Make Predictions\n",
    "y_pred = classifier.predict(X_test)\n",
    "\n",
    "# Step 7: Evaluate the Model\n",
    "# Calculate metrics\n",
    "accuracy = accuracy_score(y_test, y_pred)\n",
    "precision = precision_score(y_test, y_pred)\n",
    "recall = recall_score(y_test, y_pred)\n",
    "f1 = f1_score(y_test, y_pred)\n",
    "\n",
    "# Print metrics\n",
    "print(\"Accuracy:\", accuracy)\n",
    "print(\"Precision:\", precision)\n",
    "print(\"Recall:\", recall)\n",
    "print(\"F1 Score:\", f1)\n",
    "\n",
    "# Detailed Classification Report\n",
    "print(\"\\nClassification Report:\\n\", classification_report(y_test, y_pred))\n"
   ]
  },
  {
   "cell_type": "code",
   "execution_count": 3,
   "metadata": {},
   "outputs": [
    {
     "name": "stdout",
     "output_type": "stream",
     "text": [
      "Accuracy: 0.925\n",
      "Precision: 0.95\n",
      "Recall: 0.9047619047619048\n",
      "F1 Score: 0.9268292682926829\n"
     ]
    }
   ],
   "source": [
    "from sklearn.metrics import accuracy_score, precision_score, recall_score, f1_score\n",
    "\n",
    "# Ensure y_test and y_pred are defined\n",
    "# Example: y_test = actual labels, y_pred = predicted labels from the model\n",
    "accuracy = accuracy_score(y_test, y_pred)\n",
    "precision = precision_score(y_test, y_pred)\n",
    "recall = recall_score(y_test, y_pred)\n",
    "f1 = f1_score(y_test, y_pred)\n",
    "\n",
    "# Print to verify the values\n",
    "print(\"Accuracy:\", accuracy)\n",
    "print(\"Precision:\", precision)\n",
    "print(\"Recall:\", recall)\n",
    "print(\"F1 Score:\", f1)\n"
   ]
  },
  {
   "cell_type": "code",
   "execution_count": 4,
   "metadata": {},
   "outputs": [
    {
     "data": {
      "image/png": "[encoded data removed]",
      "text/plain": [
       "<Figure size 720x432 with 1 Axes>"
      ]
     },
     "metadata": {
      "needs_background": "light"
     },
     "output_type": "display_data"
    }
   ],
   "source": [
    "# Import seaborn and matplotlib\n",
    "import seaborn as sns\n",
    "import matplotlib.pyplot as plt\n",
    "\n",
    "# Define the metrics and their values\n",
    "metrics = ['Accuracy', 'Precision', 'Recall', 'F1 Score']\n",
    "values = [accuracy, precision, recall, f1]\n",
    "\n",
    "# Plot the bar chart\n",
    "plt.figure(figsize=(10, 6))\n",
    "sns.barplot(x=metrics, y=values, palette='Blues')  # Use a valid palette\n",
    "plt.title('Evaluation Metrics')\n",
    "plt.ylabel('Score')\n",
    "plt.ylim(0, 1)  # Limit y-axis to valid metric range\n",
    "for i, v in enumerate(values):\n",
    "    plt.text(i, v + 0.02, f\"{v:.2f}\", ha='center', fontsize=12)  # Add value labels above bars\n",
    "plt.show()\n"
   ]
  },
  {
   "cell_type": "code",
   "execution_count": null,
   "metadata": {},
   "outputs": [],
   "source": []
  }
 ],
 "metadata": {
  "kernelspec": {
   "display_name": "Python 3",
   "language": "python",
   "name": "python3"
  },
  "language_info": {
   "codemirror_mode": {
    "name": "ipython",
    "version": 3
   },
   "file_extension": ".py",
   "mimetype": "text/x-python",
   "name": "python",
   "nbconvert_exporter": "python",
   "pygments_lexer": "ipython3",
   "version": "3.7.9"
  }
 },
 "nbformat": 4,
 "nbformat_minor": 5
}
